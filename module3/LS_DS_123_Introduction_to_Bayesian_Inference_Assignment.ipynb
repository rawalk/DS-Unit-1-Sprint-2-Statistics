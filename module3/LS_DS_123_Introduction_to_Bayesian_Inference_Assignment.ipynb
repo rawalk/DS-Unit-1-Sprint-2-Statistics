{
  "nbformat": 4,
  "nbformat_minor": 0,
  "metadata": {
    "colab": {
      "name": "LS_DS_123_Introduction_to_Bayesian_Inference_Assignment.ipynb",
      "provenance": [],
      "include_colab_link": true
    },
    "kernelspec": {
      "name": "python3",
      "display_name": "Python 3"
    }
  },
  "cells": [
    {
      "cell_type": "markdown",
      "metadata": {
        "id": "view-in-github",
        "colab_type": "text"
      },
      "source": [
        "<a href=\"https://colab.research.google.com/github/rawalk/DS-Unit-1-Sprint-2-Statistics/blob/master/module3/LS_DS_123_Introduction_to_Bayesian_Inference_Assignment.ipynb\" target=\"_parent\"><img src=\"https://colab.research.google.com/assets/colab-badge.svg\" alt=\"Open In Colab\"/></a>"
      ]
    },
    {
      "cell_type": "markdown",
      "metadata": {
        "id": "H7OLbevlbd_Z",
        "colab_type": "text"
      },
      "source": [
        "# Lambda School Data Science Module 123\n",
        "\n",
        "## Introduction to Bayesian Inference\n",
        "\n",
        "\n"
      ]
    },
    {
      "cell_type": "markdown",
      "metadata": {
        "id": "2itXqNsrKhQm",
        "colab_type": "text"
      },
      "source": [
        "## Assignment - Code it up!\n",
        "\n",
        "We used pure math to apply Bayes Theorem to drug tests. Now write Python code to reproduce the results! This is purposefully open ended - you'll have to think about how you should represent probabilities and events. You can and should look things up.\n",
        "\n",
        "Specific goals/targets: Nested Below\n"
      ]
    },
    {
      "cell_type": "markdown",
      "metadata": {
        "id": "tP0bSga3L8UK",
        "colab_type": "text"
      },
      "source": [
        "### 0) Pre-Work"
      ]
    },
    {
      "cell_type": "code",
      "metadata": {
        "id": "SfuhqlSXKh59",
        "colab_type": "code",
        "colab": {
          "base_uri": "https://localhost:8080/",
          "height": 70
        },
        "outputId": "1bc7d86c-9623-464c-e872-783f815cec48"
      },
      "source": [
        "# block of code that is normally copy pasted. \n",
        "import pandas as pd \n",
        "import numpy as np\n",
        "import matplotlib.pyplot as plt\n",
        "%matplotlib inline\n",
        "import seaborn as sns\n",
        "from scipy import stats\n",
        "from scipy.stats import ttest_ind\n",
        "from scipy.stats import ttest_1samp"
      ],
      "execution_count": 1,
      "outputs": [
        {
          "output_type": "stream",
          "text": [
            "/usr/local/lib/python3.6/dist-packages/statsmodels/tools/_testing.py:19: FutureWarning: pandas.util.testing is deprecated. Use the functions in the public API at pandas.testing instead.\n",
            "  import pandas.util.testing as tm\n"
          ],
          "name": "stderr"
        }
      ]
    },
    {
      "cell_type": "code",
      "metadata": {
        "id": "H3oM3wpCKmJn",
        "colab_type": "code",
        "colab": {}
      },
      "source": [
        "# block of code that helps format exploratory charts without much need to hardcode values later on. \n",
        "from matplotlib import style\n",
        "style.use('fivethirtyeight')"
      ],
      "execution_count": 0,
      "outputs": []
    },
    {
      "cell_type": "markdown",
      "metadata": {
        "id": "P-DzzRk5bf0z",
        "colab_type": "text"
      },
      "source": [
        "\n",
        "### 1) Write a function \n",
        "\n",
        "`def prob_drunk_given_positive(prob_drunk_prior, false_positive_rate, true_positive_rate):` \n",
        "\n",
        "You should only truly need these two values in order to apply Bayes Theorem. In this example, imagine that individuals are taking a breathalyzer test with an **8% *false positive rate***, **a 100% *true positive rate***, and that ***our prior belief*** about drunk driving in the population is **1/1000**. \n",
        " - What is the probability that a person is drunk after one positive breathalyzer test?\n",
        " - What is the probability that a person is drunk after two positive breathalyzer tests?\n",
        " - How many positive breathalyzer tests are needed in order to have a probability that's greater than 95% that a person is drunk beyond the legal limit?\n",
        "\n",
        "\n"
      ]
    },
    {
      "cell_type": "markdown",
      "metadata": {
        "id": "BdcYwBXjNWDS",
        "colab_type": "text"
      },
      "source": [
        "#### ***Bayes Theorem: The many faces***\n",
        "\n",
        "$$p(H|D) = \\frac{p(D|H) * p(H)}{p(D)}$$\n",
        "\n",
        "* H is the **hypothesis**  \n",
        "* D is the observed **data**  \n",
        "* p(H) is the probability of the hypothesis before we see the data, called the prior probability, or just **prior**.    \n",
        "* p(D) is the **marginal probability** of the data taking into account all possible hypotheses (aka \"total probability of D\").  \n",
        "* p(D|H) is the probability of the data give that the hypothesis is true, called the **conditional probability**.   \n",
        "*  p(H|D) is what we want to compute, the probability of the hypothesis after we see the data, called the **posterior** probability.\n",
        "\n",
        "$$P(A|B) = \\frac{P(B|A)* P(A)}{P(B)}$$\n",
        "\n",
        "In words - the probability of $A$ conditioned on $B$ is the probability of $B$ conditioned on $A$, times the probability of $A$ and divided by the probability of $B$. \n",
        "\n",
        "\n",
        "***How to apply: aka the problem written out for us***\n",
        "\n",
        "\n",
        "![Bayes Theorem Drug Test Example](https://wikimedia.org/api/rest_v1/media/math/render/svg/95c6524a3736c43e4bae139713f3df2392e6eda9)\n",
        "\n",
        "* P(+|User) = 1 - True Positive Rate\n",
        "\n",
        "* P(User) = 1/200 Prior probability\n",
        "\n",
        "* P(+|Non-user) = False Positive rate\n",
        "\n",
        "***Most Basic Explanation***\n",
        "<div>\n",
        "<img src=\"https://www.bayestheorem.net/images/Bayes-Theorem-Formula-Defined.jpeg\" width=\"500\"/>\n",
        "</div>\n",
        "$$posterior = \\frac{conditional * prior}{marginal}$$\n"
      ]
    },
    {
      "cell_type": "code",
      "metadata": {
        "id": "qaBUoLdUKbD2",
        "colab_type": "code",
        "colab": {}
      },
      "source": [
        "# definining variables \n",
        "# prior belief:\n",
        "prior_belief = 1/1000\n",
        "\n",
        "#complement of the prior belief:\n",
        "complement_prior_belief = 1 - prior_belief\n",
        "\n",
        "#true positive rate: \n",
        "true_pos_rate = 1\n",
        "\n",
        "#false positive rate:\n",
        "false_pos_rate = 0.08"
      ],
      "execution_count": 0,
      "outputs": []
    },
    {
      "cell_type": "markdown",
      "metadata": {
        "id": "jlaonD85SwcT",
        "colab_type": "text"
      },
      "source": [
        "#### the brute force way: "
      ]
    },
    {
      "cell_type": "code",
      "metadata": {
        "id": "wlRXoioZKbGv",
        "colab_type": "code",
        "colab": {
          "base_uri": "https://localhost:8080/",
          "height": 34
        },
        "outputId": "076d485a-37d9-4250-de37-2ca6cd2a6a32"
      },
      "source": [
        "# first iteration of the bayes theorem. \n",
        "# in lamens terms the first probability of a person being drunk according to 1 + breathlyzer test\n",
        "numerator = true_pos_rate * prior_belief\n",
        "marginal = (true_pos_rate * prior_belief) + (false_pos_rate * complement_prior_belief)\n",
        "posterior_probability = numerator / marginal\n",
        "\n",
        "print(f'Probability that a person is drunk after one positive breathalyzer test? [given in percent]: {posterior_probability*100}%')"
      ],
      "execution_count": 29,
      "outputs": [
        {
          "output_type": "stream",
          "text": [
            "Probability that a person is drunk after one positive breathalyzer test? [given in percent]: 1.2357884330202669%\n"
          ],
          "name": "stdout"
        }
      ]
    },
    {
      "cell_type": "code",
      "metadata": {
        "id": "zbUqI6ldKbJX",
        "colab_type": "code",
        "colab": {
          "base_uri": "https://localhost:8080/",
          "height": 34
        },
        "outputId": "7ac82d54-f7ca-4850-e17d-f9aec283789c"
      },
      "source": [
        "# second iteration of the bayes theorem. \n",
        "# re-saving of the variables \n",
        "prior_belief_1 = posterior_probability\n",
        "complement_prior_belief_1 = 1 - prior_belief_1\n",
        "\n",
        "# application of the bayes theorem again. \n",
        "numerator_1 = true_pos_rate * prior_belief_1\n",
        "marginal_1 = (true_pos_rate * prior_belief_1) + (false_pos_rate * complement_prior_belief_1)\n",
        "posterior_probability_1 = numerator_1 / marginal_1 \n",
        "print(f'Probability that a person is drunk after two positive breathalyzer test? [given in percent]: {posterior_probability_1*100}%')"
      ],
      "execution_count": 9,
      "outputs": [
        {
          "output_type": "stream",
          "text": [
            "Probability that a person is drunk after two positive breathalyzer test? [given in percent]: 13.525210993291495%\n"
          ],
          "name": "stdout"
        }
      ]
    },
    {
      "cell_type": "code",
      "metadata": {
        "id": "JK83P2aaKbL4",
        "colab_type": "code",
        "colab": {
          "base_uri": "https://localhost:8080/",
          "height": 34
        },
        "outputId": "28b7b802-4795-480b-a0b9-af7d22c19ed2"
      },
      "source": [
        "# second iteration of the bayes theorem. \n",
        "# re-saving of the variables \n",
        "prior_belief_2 = posterior_probability_1\n",
        "complement_prior_belief_2 = 1 - prior_belief_2\n",
        "\n",
        "# application of the bayes theorem again. \n",
        "numerator_2 = true_pos_rate * prior_belief_2\n",
        "marginal_2 = (true_pos_rate * prior_belief_2) + (false_pos_rate * complement_prior_belief_2)\n",
        "posterior_probability_2 = numerator_2 / marginal_2 \n",
        "print(f'Probability that a person is drunk after three positive breathalyzer test? [given in percent]: {posterior_probability_2*100}%')"
      ],
      "execution_count": 14,
      "outputs": [
        {
          "output_type": "stream",
          "text": [
            "Probability that a person is drunk after three positive breathalyzer test? [given in percent]: 66.15996951348605%\n"
          ],
          "name": "stdout"
        }
      ]
    },
    {
      "cell_type": "code",
      "metadata": {
        "id": "8taEYxGnKbON",
        "colab_type": "code",
        "colab": {
          "base_uri": "https://localhost:8080/",
          "height": 50
        },
        "outputId": "fd0631cc-4ff9-4df5-d0e1-41ec50ac8afa"
      },
      "source": [
        "# third iteration of the bayes theorem. \n",
        "# re-saving of the variables \n",
        "prior_belief_3 = posterior_probability_2\n",
        "complement_prior_belief_3 = 1 - prior_belief_3\n",
        "\n",
        "# application of the bayes theorem again. \n",
        "numerator_3 = true_pos_rate * prior_belief_3\n",
        "marginal_3 = (true_pos_rate * prior_belief_3) + (false_pos_rate * complement_prior_belief_3)\n",
        "posterior_probability_3 = numerator_3 / marginal_3 \n",
        "print(f'Probability that a person is drunk after four positive breathalyzer test? [given in percent]: {posterior_probability_3*100}%')\n",
        "print('this is the bare-minimum to exceed the 95% threshold.')\n"
      ],
      "execution_count": 18,
      "outputs": [
        {
          "output_type": "stream",
          "text": [
            "Probability that a person is drunk after four positive breathalyzer test? [given in percent]: 96.06895076105054%\n",
            "this is the bare-minimum to exceed the 95% threshold.\n"
          ],
          "name": "stdout"
        }
      ]
    },
    {
      "cell_type": "code",
      "metadata": {
        "id": "um2k-X1sKbQj",
        "colab_type": "code",
        "colab": {
          "base_uri": "https://localhost:8080/",
          "height": 50
        },
        "outputId": "9efc4ad6-7005-442c-9a23-c940922402b6"
      },
      "source": [
        "# third iteration of the bayes theorem. \n",
        "# re-saving of the variables \n",
        "prior_belief_4 = posterior_probability_3\n",
        "complement_prior_belief_4 = 1 - prior_belief_4\n",
        "\n",
        "# application of the bayes theorem again. \n",
        "numerator_4 = true_pos_rate * prior_belief_4\n",
        "marginal_4 = (true_pos_rate * prior_belief_4) + (false_pos_rate * complement_prior_belief_4)\n",
        "posterior_probability_4 = numerator_4 / marginal_4 \n",
        "print(f'Probability that a person is drunk after five positive breathalyzer test? [given in percent]: {posterior_probability_4*100}%')\n",
        "print('this is the ideal threshold.')\n"
      ],
      "execution_count": 19,
      "outputs": [
        {
          "output_type": "stream",
          "text": [
            "Probability that a person is drunk after five positive breathalyzer test? [given in percent]: 99.67371577896735%\n",
            "this is the ideal threshold.\n"
          ],
          "name": "stdout"
        }
      ]
    },
    {
      "cell_type": "markdown",
      "metadata": {
        "id": "bWhhEMKjSjWx",
        "colab_type": "text"
      },
      "source": [
        "#### Now That I have brute forced it, I'll write a function for it. "
      ]
    },
    {
      "cell_type": "code",
      "metadata": {
        "id": "XuYClOOcR8Rp",
        "colab_type": "code",
        "colab": {}
      },
      "source": [
        "def prob_drunk_given_positive(prob_drunk_prior, false_positive_rate, true_positive_rate, number_of_tests):\n",
        "    posterior_probability=prob_drunk_prior\n",
        "    for test in range(0, number_of_tests):\n",
        "        P_user = posterior_probability # prior belief\n",
        "        P_non_user = 1 - P_user  # complement of the prior belief\n",
        "        P_pos_given_user = false_positive_rate # this is the true positive rate\n",
        "        P_pos_given_non_user = true_positive_rate # this is the false positive rate\n",
        "        posterior_probability = (P_pos_given_user*P_user)/((P_pos_given_user*P_user) + (P_pos_given_non_user*P_non_user))\n",
        "    return posterior_probability*100\n"
      ],
      "execution_count": 0,
      "outputs": []
    },
    {
      "cell_type": "code",
      "metadata": {
        "id": "O6XU6yhIT1kM",
        "colab_type": "code",
        "colab": {
          "base_uri": "https://localhost:8080/",
          "height": 34
        },
        "outputId": "d1880607-02d0-40e2-b95e-ce22c56b02d3"
      },
      "source": [
        "prob_drunk_given_positive(1/1000, 0.08, 1, 1)"
      ],
      "execution_count": 28,
      "outputs": [
        {
          "output_type": "execute_result",
          "data": {
            "text/plain": [
              "0.008007366777435241"
            ]
          },
          "metadata": {
            "tags": []
          },
          "execution_count": 28
        }
      ]
    },
    {
      "cell_type": "markdown",
      "metadata": {
        "id": "KPRCJdAmKYJG",
        "colab_type": "text"
      },
      "source": [
        "### 2) Explore `scipy.stats.bayes_mvs`  \n",
        "Read its documentation, and experiment with it on data you've tested in other ways earlier this week.\n",
        " - Create a visualization comparing the results of a Bayesian approach to a traditional/frequentist approach. (with a large sample size they should look close to identical, however, take this opportunity to practice visualizing condfidence intervals in general. The following are some potential ways that you could visualize confidence intervals on your graph:\n",
        "  - [Matplotlib Error Bars](https://matplotlib.org/3.1.1/api/_as_gen/matplotlib.pyplot.errorbar.html)\n",
        "  - [Seaborn barplot with error bars](https://seaborn.pydata.org/generated/seaborn.barplot.html)\n",
        "  - [Vertical ines to show bounds of confidence interval](https://www.simplypsychology.org/confidence-interval.jpg)\n",
        "  - [Confidence Intervals on Box Plots](https://matplotlib.org/3.1.1/api/_as_gen/matplotlib.axes.Axes.boxplot.html)\n",
        "\n",
        "\n"
      ]
    },
    {
      "cell_type": "code",
      "metadata": {
        "id": "IHQ3heqrKb0E",
        "colab_type": "code",
        "colab": {}
      },
      "source": [
        ""
      ],
      "execution_count": 0,
      "outputs": []
    },
    {
      "cell_type": "code",
      "metadata": {
        "id": "mmvt8qVTKb2i",
        "colab_type": "code",
        "colab": {}
      },
      "source": [
        ""
      ],
      "execution_count": 0,
      "outputs": []
    },
    {
      "cell_type": "code",
      "metadata": {
        "id": "W8q0Ln1qKb5L",
        "colab_type": "code",
        "colab": {}
      },
      "source": [
        ""
      ],
      "execution_count": 0,
      "outputs": []
    },
    {
      "cell_type": "code",
      "metadata": {
        "id": "Rlalc0AcKb7q",
        "colab_type": "code",
        "colab": {}
      },
      "source": [
        ""
      ],
      "execution_count": 0,
      "outputs": []
    },
    {
      "cell_type": "code",
      "metadata": {
        "id": "C65WId7xKcD9",
        "colab_type": "code",
        "colab": {}
      },
      "source": [
        ""
      ],
      "execution_count": 0,
      "outputs": []
    },
    {
      "cell_type": "markdown",
      "metadata": {
        "id": "32hxPFeCKZea",
        "colab_type": "text"
      },
      "source": [
        "### 3) In your own words, summarize the difference between Bayesian and Frequentist statistics\n",
        "\n",
        "If you're unsure where to start, check out [this blog post of Bayes theorem with Python](https://dataconomy.com/2015/02/introduction-to-bayes-theorem-with-python/)."
      ]
    },
    {
      "cell_type": "code",
      "metadata": {
        "id": "xpVhZyUnbf7o",
        "colab_type": "code",
        "colab": {}
      },
      "source": [
        "# TODO - code!"
      ],
      "execution_count": 0,
      "outputs": []
    },
    {
      "cell_type": "code",
      "metadata": {
        "id": "oyaZ7UXvKdGU",
        "colab_type": "code",
        "colab": {}
      },
      "source": [
        ""
      ],
      "execution_count": 0,
      "outputs": []
    },
    {
      "cell_type": "code",
      "metadata": {
        "id": "toO1baFhKdJX",
        "colab_type": "code",
        "colab": {}
      },
      "source": [
        ""
      ],
      "execution_count": 0,
      "outputs": []
    },
    {
      "cell_type": "code",
      "metadata": {
        "id": "Ppu2fArgKdL6",
        "colab_type": "code",
        "colab": {}
      },
      "source": [
        ""
      ],
      "execution_count": 0,
      "outputs": []
    },
    {
      "cell_type": "code",
      "metadata": {
        "id": "9OdwAsCgKdOj",
        "colab_type": "code",
        "colab": {}
      },
      "source": [
        ""
      ],
      "execution_count": 0,
      "outputs": []
    },
    {
      "cell_type": "markdown",
      "metadata": {
        "id": "uWgWjp3PQ3Sq",
        "colab_type": "text"
      },
      "source": [
        "## Resources"
      ]
    },
    {
      "cell_type": "markdown",
      "metadata": {
        "id": "QRgHqmYIQ9qn",
        "colab_type": "text"
      },
      "source": [
        "- [Worked example of Bayes rule calculation](https://en.wikipedia.org/wiki/Bayes'_theorem#Examples) (helpful as it fully breaks out the denominator)\n",
        "- [Source code for mvsdist in scipy](https://github.com/scipy/scipy/blob/90534919e139d2a81c24bf08341734ff41a3db12/scipy/stats/morestats.py#L139)"
      ]
    },
    {
      "cell_type": "markdown",
      "metadata": {
        "id": "GP7Jv1XvwtkX",
        "colab_type": "text"
      },
      "source": [
        "## Stretch Goals:\n",
        "\n",
        "- Go back and study the content from Modules 1 & 2 to make sure that you're really comfortable with them.\n",
        "- Apply a Bayesian technique to a problem you previously worked (in an assignment or project work) on from a frequentist (standard) perspective\n",
        "- Check out [PyMC3](https://docs.pymc.io/) (note this goes beyond hypothesis tests into modeling) - read the guides and work through some examples\n",
        "- Take PyMC3 further - see if you can build something with it!"
      ]
    },
    {
      "cell_type": "code",
      "metadata": {
        "id": "iDi0eFr1x-v_",
        "colab_type": "code",
        "colab": {}
      },
      "source": [
        ""
      ],
      "execution_count": 0,
      "outputs": []
    }
  ]
}